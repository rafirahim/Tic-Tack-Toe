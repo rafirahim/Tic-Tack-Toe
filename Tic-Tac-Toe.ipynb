{
 "cells": [
  {
   "cell_type": "code",
   "execution_count": 4,
   "id": "07aa89d7",
   "metadata": {},
   "outputs": [],
   "source": [
    "import tkinter as tk\n",
    "from tkinter import messagebox\n",
    "\n",
    "class TicTacToe:\n",
    "    def __init__(self, master):\n",
    "        self.master = master\n",
    "        self.master.title(\"Tic-Tac-Toe\")\n",
    "        self.board = [\" \"] * 9\n",
    "        self.current_player = \"X\"\n",
    "        self.create_widgets()\n",
    "\n",
    "    def create_widgets(self):\n",
    "        self.cells = []\n",
    "        for i in range(3):\n",
    "            for j in range(3):\n",
    "                button = tk.Button(self.master, text=\" \", font=(\"Arial\", 32), width=4, height=2, command=lambda i=i, j=j: self.on_click(i, j))\n",
    "                button.grid(row=i, column=j)\n",
    "                self.cells.append(button)\n",
    "        self.reset_button = tk.Button(self.master, text=\"Reset\", font=(\"Arial\", 16), command=self.reset)\n",
    "        self.reset_button.grid(row=3, column=1, pady=10)\n",
    "\n",
    "    def on_click(self, row, col):\n",
    "        index = row * 3 + col\n",
    "        if self.board[index] == \" \":\n",
    "            self.board[index] = self.current_player\n",
    "            self.cells[index].configure(text=self.current_player)\n",
    "            if self.check_win():\n",
    "                self.game_over()\n",
    "            elif \" \" not in self.board:\n",
    "                self.game_over(\"It's a tie!\")\n",
    "            else:\n",
    "                self.current_player = \"O\" if self.current_player == \"X\" else \"X\"\n",
    "\n",
    "    def check_win(self):\n",
    "        win_moves = [[0,1,2], [3,4,5], [6,7,8], [0,3,6], [1,4,7], [2,5,8], [0,4,8], [2,4,6]]\n",
    "        for moves in win_moves:\n",
    "            if all(self.board[i] == self.current_player for i in moves):\n",
    "                return True\n",
    "        return False\n",
    "\n",
    "    def game_over(self, message=None):\n",
    "        for cell in self.cells:\n",
    "            cell.configure(state=tk.DISABLED)\n",
    "        if message:\n",
    "            messagebox.showinfo(\"Game Over\", message)\n",
    "        else:\n",
    "            messagebox.showinfo(\"Game Over\", \"Player \" + self.current_player + \" wins!\")\n",
    "\n",
    "    def reset(self):\n",
    "        for i in range(9):\n",
    "            self.cells[i].configure(text=\" \", state=tk.NORMAL)\n",
    "            self.board[i] = \" \"\n",
    "        self.current_player = \"X\"\n"
   ]
  },
  {
   "cell_type": "code",
   "execution_count": 5,
   "id": "c88b5c21",
   "metadata": {},
   "outputs": [],
   "source": [
    "root = tk.Tk()\n",
    "game = TicTacToe(root)\n",
    "root.mainloop()\n"
   ]
  },
  {
   "cell_type": "code",
   "execution_count": null,
   "id": "309fec33",
   "metadata": {},
   "outputs": [],
   "source": []
  }
 ],
 "metadata": {
  "kernelspec": {
   "display_name": "Python 3",
   "language": "python",
   "name": "python3"
  },
  "language_info": {
   "codemirror_mode": {
    "name": "ipython",
    "version": 3
   },
   "file_extension": ".py",
   "mimetype": "text/x-python",
   "name": "python",
   "nbconvert_exporter": "python",
   "pygments_lexer": "ipython3",
   "version": "3.8.12"
  }
 },
 "nbformat": 4,
 "nbformat_minor": 5
}
